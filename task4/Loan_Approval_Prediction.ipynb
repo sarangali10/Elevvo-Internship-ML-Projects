{
 "cells": [
  {
   "cell_type": "markdown",
   "id": "4606f413",
   "metadata": {},
   "source": [
    "# Task 4: Loan Approval Prediction\n",
    "\n",
    "### Description:\n",
    "- Dataset (Recommended): Loan-Approval-Prediction-Dataset (Kaggle)  \n",
    "- Build a model to predict whether a loan application will be approved  \n",
    "- Handle missing values and encode categorical features  \n",
    "- Train a classification model and evaluate performance on imbalanced data  \n",
    "- Focus on precision, recall, and F1-score  \n"
   ]
  },
  {
   "cell_type": "markdown",
   "id": "cf72da47",
   "metadata": {},
   "source": [
    "### Step 1: Import Libraries"
   ]
  },
  {
   "cell_type": "code",
   "execution_count": 1,
   "id": "614604c8",
   "metadata": {},
   "outputs": [],
   "source": [
    "import pandas as pd\n",
    "import numpy as np\n",
    "\n",
    "import matplotlib.pyplot as plt\n",
    "import seaborn as sns\n",
    "\n",
    "from sklearn.model_selection import train_test_split\n",
    "from sklearn.preprocessing import LabelEncoder\n",
    "from sklearn.linear_model import LogisticRegression\n",
    "from sklearn.tree import DecisionTreeClassifier\n",
    "from sklearn.metrics import accuracy_score, precision_score, recall_score, f1_score, confusion_matrix, classification_report\n"
   ]
  },
  {
   "cell_type": "markdown",
   "id": "35a07d67",
   "metadata": {},
   "source": [
    "### Step 2: Import Dataset"
   ]
  },
  {
   "cell_type": "code",
   "execution_count": 4,
   "id": "06e86145",
   "metadata": {},
   "outputs": [
    {
     "data": {
      "text/html": [
       "<div>\n",
       "<style scoped>\n",
       "    .dataframe tbody tr th:only-of-type {\n",
       "        vertical-align: middle;\n",
       "    }\n",
       "\n",
       "    .dataframe tbody tr th {\n",
       "        vertical-align: top;\n",
       "    }\n",
       "\n",
       "    .dataframe thead th {\n",
       "        text-align: right;\n",
       "    }\n",
       "</style>\n",
       "<table border=\"1\" class=\"dataframe\">\n",
       "  <thead>\n",
       "    <tr style=\"text-align: right;\">\n",
       "      <th></th>\n",
       "      <th>loan_id</th>\n",
       "      <th>no_of_dependents</th>\n",
       "      <th>education</th>\n",
       "      <th>self_employed</th>\n",
       "      <th>income_annum</th>\n",
       "      <th>loan_amount</th>\n",
       "      <th>loan_term</th>\n",
       "      <th>cibil_score</th>\n",
       "      <th>residential_assets_value</th>\n",
       "      <th>commercial_assets_value</th>\n",
       "      <th>luxury_assets_value</th>\n",
       "      <th>bank_asset_value</th>\n",
       "      <th>loan_status</th>\n",
       "    </tr>\n",
       "  </thead>\n",
       "  <tbody>\n",
       "    <tr>\n",
       "      <th>0</th>\n",
       "      <td>1</td>\n",
       "      <td>2</td>\n",
       "      <td>Graduate</td>\n",
       "      <td>No</td>\n",
       "      <td>9600000</td>\n",
       "      <td>29900000</td>\n",
       "      <td>12</td>\n",
       "      <td>778</td>\n",
       "      <td>2400000</td>\n",
       "      <td>17600000</td>\n",
       "      <td>22700000</td>\n",
       "      <td>8000000</td>\n",
       "      <td>Approved</td>\n",
       "    </tr>\n",
       "    <tr>\n",
       "      <th>1</th>\n",
       "      <td>2</td>\n",
       "      <td>0</td>\n",
       "      <td>Not Graduate</td>\n",
       "      <td>Yes</td>\n",
       "      <td>4100000</td>\n",
       "      <td>12200000</td>\n",
       "      <td>8</td>\n",
       "      <td>417</td>\n",
       "      <td>2700000</td>\n",
       "      <td>2200000</td>\n",
       "      <td>8800000</td>\n",
       "      <td>3300000</td>\n",
       "      <td>Rejected</td>\n",
       "    </tr>\n",
       "    <tr>\n",
       "      <th>2</th>\n",
       "      <td>3</td>\n",
       "      <td>3</td>\n",
       "      <td>Graduate</td>\n",
       "      <td>No</td>\n",
       "      <td>9100000</td>\n",
       "      <td>29700000</td>\n",
       "      <td>20</td>\n",
       "      <td>506</td>\n",
       "      <td>7100000</td>\n",
       "      <td>4500000</td>\n",
       "      <td>33300000</td>\n",
       "      <td>12800000</td>\n",
       "      <td>Rejected</td>\n",
       "    </tr>\n",
       "    <tr>\n",
       "      <th>3</th>\n",
       "      <td>4</td>\n",
       "      <td>3</td>\n",
       "      <td>Graduate</td>\n",
       "      <td>No</td>\n",
       "      <td>8200000</td>\n",
       "      <td>30700000</td>\n",
       "      <td>8</td>\n",
       "      <td>467</td>\n",
       "      <td>18200000</td>\n",
       "      <td>3300000</td>\n",
       "      <td>23300000</td>\n",
       "      <td>7900000</td>\n",
       "      <td>Rejected</td>\n",
       "    </tr>\n",
       "    <tr>\n",
       "      <th>4</th>\n",
       "      <td>5</td>\n",
       "      <td>5</td>\n",
       "      <td>Not Graduate</td>\n",
       "      <td>Yes</td>\n",
       "      <td>9800000</td>\n",
       "      <td>24200000</td>\n",
       "      <td>20</td>\n",
       "      <td>382</td>\n",
       "      <td>12400000</td>\n",
       "      <td>8200000</td>\n",
       "      <td>29400000</td>\n",
       "      <td>5000000</td>\n",
       "      <td>Rejected</td>\n",
       "    </tr>\n",
       "  </tbody>\n",
       "</table>\n",
       "</div>"
      ],
      "text/plain": [
       "   loan_id   no_of_dependents      education  self_employed   income_annum  \\\n",
       "0        1                  2       Graduate             No        9600000   \n",
       "1        2                  0   Not Graduate            Yes        4100000   \n",
       "2        3                  3       Graduate             No        9100000   \n",
       "3        4                  3       Graduate             No        8200000   \n",
       "4        5                  5   Not Graduate            Yes        9800000   \n",
       "\n",
       "    loan_amount   loan_term   cibil_score   residential_assets_value  \\\n",
       "0      29900000          12           778                    2400000   \n",
       "1      12200000           8           417                    2700000   \n",
       "2      29700000          20           506                    7100000   \n",
       "3      30700000           8           467                   18200000   \n",
       "4      24200000          20           382                   12400000   \n",
       "\n",
       "    commercial_assets_value   luxury_assets_value   bank_asset_value  \\\n",
       "0                  17600000              22700000            8000000   \n",
       "1                   2200000               8800000            3300000   \n",
       "2                   4500000              33300000           12800000   \n",
       "3                   3300000              23300000            7900000   \n",
       "4                   8200000              29400000            5000000   \n",
       "\n",
       "   loan_status  \n",
       "0     Approved  \n",
       "1     Rejected  \n",
       "2     Rejected  \n",
       "3     Rejected  \n",
       "4     Rejected  "
      ]
     },
     "execution_count": 4,
     "metadata": {},
     "output_type": "execute_result"
    }
   ],
   "source": [
    "df = pd.read_csv(r\"D:\\eleevo internship\\task4\\loan_approval_dataset.csv\")\n",
    "df.head()"
   ]
  },
  {
   "cell_type": "markdown",
   "id": "5ce74a6d",
   "metadata": {},
   "source": [
    "### Step 3: Explore Dataset"
   ]
  },
  {
   "cell_type": "code",
   "execution_count": 5,
   "id": "3ae0b869",
   "metadata": {},
   "outputs": [
    {
     "name": "stdout",
     "output_type": "stream",
     "text": [
      "Shape: (4269, 13)\n"
     ]
    }
   ],
   "source": [
    "# Shape of dataset\n",
    "print(\"Shape:\", df.shape)\n"
   ]
  },
  {
   "cell_type": "code",
   "execution_count": 6,
   "id": "75820150",
   "metadata": {},
   "outputs": [
    {
     "name": "stdout",
     "output_type": "stream",
     "text": [
      "\n",
      "Info:\n",
      "<class 'pandas.core.frame.DataFrame'>\n",
      "RangeIndex: 4269 entries, 0 to 4268\n",
      "Data columns (total 13 columns):\n",
      " #   Column                     Non-Null Count  Dtype \n",
      "---  ------                     --------------  ----- \n",
      " 0   loan_id                    4269 non-null   int64 \n",
      " 1    no_of_dependents          4269 non-null   int64 \n",
      " 2    education                 4269 non-null   object\n",
      " 3    self_employed             4269 non-null   object\n",
      " 4    income_annum              4269 non-null   int64 \n",
      " 5    loan_amount               4269 non-null   int64 \n",
      " 6    loan_term                 4269 non-null   int64 \n",
      " 7    cibil_score               4269 non-null   int64 \n",
      " 8    residential_assets_value  4269 non-null   int64 \n",
      " 9    commercial_assets_value   4269 non-null   int64 \n",
      " 10   luxury_assets_value       4269 non-null   int64 \n",
      " 11   bank_asset_value          4269 non-null   int64 \n",
      " 12   loan_status               4269 non-null   object\n",
      "dtypes: int64(10), object(3)\n",
      "memory usage: 433.7+ KB\n",
      "None\n"
     ]
    }
   ],
   "source": [
    "# Info about columns\n",
    "print(\"\\nInfo:\")\n",
    "print(df.info())\n",
    "\n"
   ]
  },
  {
   "cell_type": "code",
   "execution_count": 7,
   "id": "73f747ee",
   "metadata": {},
   "outputs": [
    {
     "name": "stdout",
     "output_type": "stream",
     "text": [
      "\n",
      "Missing Values:\n",
      "loan_id                      0\n",
      " no_of_dependents            0\n",
      " education                   0\n",
      " self_employed               0\n",
      " income_annum                0\n",
      " loan_amount                 0\n",
      " loan_term                   0\n",
      " cibil_score                 0\n",
      " residential_assets_value    0\n",
      " commercial_assets_value     0\n",
      " luxury_assets_value         0\n",
      " bank_asset_value            0\n",
      " loan_status                 0\n",
      "dtype: int64\n"
     ]
    }
   ],
   "source": [
    "# Missing values\n",
    "print(\"\\nMissing Values:\")\n",
    "print(df.isnull().sum())\n"
   ]
  },
  {
   "cell_type": "code",
   "execution_count": null,
   "id": "ca626b06",
   "metadata": {},
   "outputs": [
    {
     "name": "stdout",
     "output_type": "stream",
     "text": [
      "Columns after cleaning:\n",
      "Index(['loan_id', 'no_of_dependents', 'education', 'self_employed',\n",
      "       'income_annum', 'loan_amount', 'loan_term', 'cibil_score',\n",
      "       'residential_assets_value', 'commercial_assets_value',\n",
      "       'luxury_assets_value', 'bank_asset_value', 'loan_status'],\n",
      "      dtype='object')\n"
     ]
    }
   ],
   "source": [
    "# Fix column names\n",
    "# Remove spaces/newlines from column names\n",
    "df.columns = df.columns.str.strip()\n",
    "\n",
    "print(\"Columns after cleaning:\")\n",
    "print(df.columns)\n"
   ]
  },
  {
   "cell_type": "code",
   "execution_count": null,
   "id": "6a12467a",
   "metadata": {},
   "outputs": [
    {
     "name": "stdout",
     "output_type": "stream",
     "text": [
      "\n",
      "Target Variable Distribution:\n",
      "loan_status\n",
      "Approved    2656\n",
      "Rejected    1613\n",
      "Name: count, dtype: int64\n"
     ]
    }
   ],
   "source": [
    "print(\"\\nTarget Variable Distribution:\")\n",
    "print(df['loan_status'].value_counts())\n"
   ]
  },
  {
   "cell_type": "markdown",
   "id": "b55d1ae5",
   "metadata": {},
   "source": [
    "### Step 4: Preprocessing"
   ]
  },
  {
   "cell_type": "code",
   "execution_count": null,
   "id": "2a37dde4",
   "metadata": {},
   "outputs": [
    {
     "name": "stdout",
     "output_type": "stream",
     "text": [
      "Encoded dataset sample:\n",
      "   no_of_dependents  education  self_employed  income_annum  loan_amount  \\\n",
      "0                 2          0              0       9600000     29900000   \n",
      "1                 0          1              1       4100000     12200000   \n",
      "2                 3          0              0       9100000     29700000   \n",
      "3                 3          0              0       8200000     30700000   \n",
      "4                 5          1              1       9800000     24200000   \n",
      "\n",
      "   loan_term  cibil_score  residential_assets_value  commercial_assets_value  \\\n",
      "0         12          778                   2400000                 17600000   \n",
      "1          8          417                   2700000                  2200000   \n",
      "2         20          506                   7100000                  4500000   \n",
      "3          8          467                  18200000                  3300000   \n",
      "4         20          382                  12400000                  8200000   \n",
      "\n",
      "   luxury_assets_value  bank_asset_value  loan_status  \n",
      "0             22700000           8000000            0  \n",
      "1              8800000           3300000            1  \n",
      "2             33300000          12800000            1  \n",
      "3             23300000           7900000            1  \n",
      "4             29400000           5000000            1  \n"
     ]
    }
   ],
   "source": [
    "# Handle missing values and encode categorical features\n",
    "\n",
    "# Drop loan_id (not useful for prediction)\n",
    "df = df.drop('loan_id', axis=1)\n",
    "\n",
    "# Encode categorical variables\n",
    "label_enc = LabelEncoder()\n",
    "\n",
    "df['education'] = label_enc.fit_transform(df['education'])       \n",
    "df['self_employed'] = label_enc.fit_transform(df['self_employed']) #\n",
    "df['loan_status'] = label_enc.fit_transform(df['loan_status'])   \n",
    "\n",
    "print(\"Encoded dataset sample:\")\n",
    "print(df.head())"
   ]
  },
  {
   "cell_type": "markdown",
   "id": "d695deeb",
   "metadata": {},
   "source": [
    "### Step 5: Train/Test Split"
   ]
  },
  {
   "cell_type": "code",
   "execution_count": 13,
   "id": "3f40563d",
   "metadata": {},
   "outputs": [
    {
     "name": "stdout",
     "output_type": "stream",
     "text": [
      "Training set size: 3415\n",
      "Testing set size: 854\n"
     ]
    }
   ],
   "source": [
    "from sklearn.model_selection import train_test_split\n",
    "\n",
    "# Features (everything except target)\n",
    "X = df.drop('loan_status', axis=1)\n",
    "\n",
    "# Target (loan_status: 1=Approved, 0=Rejected)\n",
    "y = df['loan_status']\n",
    "\n",
    "# Split into training (80%) and testing (20%)\n",
    "X_train, X_test, y_train, y_test = train_test_split(\n",
    "    X, y, test_size=0.2, random_state=42, stratify=y\n",
    ")\n",
    "\n",
    "print(\"Training set size:\", X_train.shape[0])\n",
    "print(\"Testing set size:\", X_test.shape[0])\n"
   ]
  },
  {
   "cell_type": "markdown",
   "id": "c15d316b",
   "metadata": {},
   "source": [
    "### Step 6: Train Models "
   ]
  },
  {
   "cell_type": "code",
   "execution_count": 14,
   "id": "3972e59c",
   "metadata": {},
   "outputs": [
    {
     "name": "stdout",
     "output_type": "stream",
     "text": [
      "Logistic Regression model trained successfully\n"
     ]
    }
   ],
   "source": [
    "log_reg = LogisticRegression(max_iter=1000, random_state=42)\n",
    "\n",
    "# Train the model\n",
    "log_reg.fit(X_train, y_train)\n",
    "\n",
    "# Predictions\n",
    "y_pred_log = log_reg.predict(X_test)\n",
    "\n",
    "print(\"Logistic Regression model trained successfully\")\n"
   ]
  },
  {
   "cell_type": "markdown",
   "id": "454be3d6",
   "metadata": {},
   "source": [
    "### Step 7: Model Evaluation (Logistic Regression)"
   ]
  },
  {
   "cell_type": "code",
   "execution_count": 15,
   "id": "271c3097",
   "metadata": {},
   "outputs": [
    {
     "name": "stdout",
     "output_type": "stream",
     "text": [
      "Accuracy: 0.8080\n",
      "Precision: 0.8245\n",
      "Recall: 0.6254\n",
      "F1 Score: 0.7113\n",
      "\n",
      "Classification Report:\n",
      "              precision    recall  f1-score   support\n",
      "\n",
      "           0       0.80      0.92      0.86       531\n",
      "           1       0.82      0.63      0.71       323\n",
      "\n",
      "    accuracy                           0.81       854\n",
      "   macro avg       0.81      0.77      0.78       854\n",
      "weighted avg       0.81      0.81      0.80       854\n",
      "\n",
      "\n",
      "Confusion Matrix:\n",
      "[[488  43]\n",
      " [121 202]]\n"
     ]
    }
   ],
   "source": [
    "from sklearn.metrics import accuracy_score, precision_score, recall_score, f1_score, confusion_matrix, classification_report\n",
    "\n",
    "# Accuracy\n",
    "acc = accuracy_score(y_test, y_pred_log)\n",
    "\n",
    "# Precision, Recall, F1\n",
    "prec = precision_score(y_test, y_pred_log)\n",
    "rec = recall_score(y_test, y_pred_log)\n",
    "f1 = f1_score(y_test, y_pred_log)\n",
    "\n",
    "print(f\"Accuracy: {acc:.4f}\")\n",
    "print(f\"Precision: {prec:.4f}\")\n",
    "print(f\"Recall: {rec:.4f}\")\n",
    "print(f\"F1 Score: {f1:.4f}\")\n",
    "\n",
    "# Detailed classification report\n",
    "print(\"\\nClassification Report:\")\n",
    "print(classification_report(y_test, y_pred_log))\n",
    "\n",
    "# Confusion Matrix\n",
    "cm = confusion_matrix(y_test, y_pred_log)\n",
    "print(\"\\nConfusion Matrix:\")\n",
    "print(cm)\n"
   ]
  },
  {
   "cell_type": "markdown",
   "id": "3e8ec49a",
   "metadata": {},
   "source": [
    "# Summary of Task 4\n",
    "\n",
    "---\n",
    "\n",
    "## Task 4: Loan Approval Prediction  \n",
    "\n",
    "### Description:\n",
    "- Dataset: Loan-Approval-Prediction-Dataset (Kaggle)  \n",
    "- Goal: Predict whether a loan application will be approved or rejected.  \n",
    "\n",
    "### Steps & Outcomes:\n",
    "1. **Preprocessing**\n",
    "   - No missing values.  \n",
    "   - Dropped `loan_id` (not useful for prediction).  \n",
    "   - Encoded categorical columns:  \n",
    "     - `education` → Graduate=1, Not Graduate=0  \n",
    "     - `self_employed` → Yes=1, No=0  \n",
    "     - `loan_status` (target) → Approved=1, Rejected=0  \n",
    "\n",
    "2. **Train/Test Split**\n",
    "   - Training set: 3415 samples  \n",
    "   - Testing set: 854 samples  \n",
    "\n",
    "3. **Model Training**\n",
    "   - Algorithm: Logistic Regression  \n",
    "\n",
    "4. **Evaluation**\n",
    "   - Accuracy: **80.8%**  \n",
    "   - Precision: **0.82** → Model is good at correctly predicting Approved cases.  \n",
    "   - Recall: **0.63** → Model misses ~37% of actual Approved cases (false negatives).  \n",
    "   - F1-score: **0.71** → Balanced measure, moderate performance.  \n",
    "   - Confusion Matrix:  \n",
    "     - Correctly predicted **488 Rejected** and **202 Approved**.  \n",
    "     - Misclassified **43 Rejected → Approved** and **121 Approved → Rejected**.  \n",
    "\n",
    "### Insights:\n",
    "- Model is **strong in avoiding false approvals** (good for reducing risky loans).  \n",
    "- However, recall is weaker → some deserving applicants are rejected.  \n",
    "- In banking, this tradeoff is important:  \n",
    "  - High precision = safer for bank.  \n",
    "  - Improving recall = more fair approvals for applicants."
   ]
  }
 ],
 "metadata": {
  "kernelspec": {
   "display_name": "Python 3",
   "language": "python",
   "name": "python3"
  },
  "language_info": {
   "codemirror_mode": {
    "name": "ipython",
    "version": 3
   },
   "file_extension": ".py",
   "mimetype": "text/x-python",
   "name": "python",
   "nbconvert_exporter": "python",
   "pygments_lexer": "ipython3",
   "version": "3.13.7"
  }
 },
 "nbformat": 4,
 "nbformat_minor": 5
}
